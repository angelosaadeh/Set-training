{
 "cells": [
  {
   "cell_type": "code",
   "execution_count": 1,
   "metadata": {},
   "outputs": [
    {
     "data": {
      "text/plain": [
       "60000"
      ]
     },
     "execution_count": 1,
     "metadata": {},
     "output_type": "execute_result"
    }
   ],
   "source": [
    "import math\n",
    "import random\n",
    "import numpy as np\n",
    "import pandas as pd\n",
    "from scipy.special import gamma\n",
    "from sklearn.linear_model import LogisticRegression\n",
    "import tensorflow as tf\n",
    "import itertools\n",
    "from matplotlib import pyplot as plt\n",
    "import torch as t\n",
    "\n",
    "def factorial(n):\n",
    "    if n == 0:\n",
    "        return 1\n",
    "    else:\n",
    "        return n*factorial(n-1)\n",
    "\n",
    "def normalize(a, ax=0):\n",
    "    m = np.min(a,axis = ax)\n",
    "    M = np.max(a,axis = ax)\n",
    "    return (a-m)/(M-m)\n",
    "\n",
    "import warnings\n",
    "warnings.filterwarnings('ignore')\n",
    "\n",
    "np.set_printoptions(suppress = True)\n",
    "\n",
    "data = pd.read_csv('data.csv').values\n",
    "data = np.array(data)\n",
    "np.random.shuffle(data)\n",
    "\n",
    "len(data)\n"
   ]
  },
  {
   "cell_type": "code",
   "execution_count": 2,
   "metadata": {},
   "outputs": [],
   "source": [
    "rand = np.arange(60000)\n",
    "np.random.shuffle(rand)\n",
    "train_no = rand[:50000]\n",
    "\n",
    "X = data\n",
    "\n",
    "val_no = np.setdiff1d(rand,train_no)\n",
    "\n",
    "X_train,X_val = X[train_no,:-1],X[val_no,:-1]\n",
    "Y_train,Y_val = X[train_no,-1:],X[val_no,-1:]\n",
    "Y_train.shape = (Y_train.shape[0],)  \n",
    "Y_val.shape = (Y_val.shape[0],)\n",
    "X_train.shape = (X_train.shape[0],X_train.shape[1])\n",
    "X_val.shape = (X_val.shape[0],X_val.shape[1])"
   ]
  },
  {
   "cell_type": "code",
   "execution_count": 3,
   "metadata": {},
   "outputs": [],
   "source": [
    "def changey(y, p):\n",
    "    r = np.random.binomial(1,1-p,y.shape)\n",
    "    x = np.random.randint(0,10,y.shape)\n",
    "    return y*r+x-x*r\n",
    "\n",
    "def changex(x, p):\n",
    "    return x+np.random.normal(0,p,x.shape)"
   ]
  },
  {
   "cell_type": "code",
   "execution_count": 4,
   "metadata": {},
   "outputs": [],
   "source": [
    "xtrain = []\n",
    "ytrain = []\n",
    "\n",
    "subsize = 1000\n",
    "\n",
    "i=0\n",
    "xtrain.append(X_train[i*subsize:(i+1)*subsize] )\n",
    "ytrain.append(Y_train[i*subsize:(i+1)*subsize])\n",
    "i+=1\n",
    "xtrain.append(changex(X_train[i*subsize:(i+1)*subsize], 0.5) )\n",
    "ytrain.append(Y_train[i*subsize:(i+1)*subsize])\n",
    "i+=1\n",
    "xtrain.append(changex(X_train[i*subsize:(i+1)*subsize], 1.0) )\n",
    "ytrain.append(Y_train[i*subsize:(i+1)*subsize])\n",
    "i+=1\n",
    "xtrain.append(X_train[i*subsize:(i+1)*subsize] )\n",
    "ytrain.append(changey(Y_train[i*subsize:(i+1)*subsize],1/10))\n",
    "i+=1\n",
    "xtrain.append(changex(X_train[i*subsize:(i+1)*subsize], 0.5) )\n",
    "ytrain.append(changey(Y_train[i*subsize:(i+1)*subsize],1/10))\n",
    "i+=1\n",
    "xtrain.append(changex(X_train[i*subsize:(i+1)*subsize], 1.0) )\n",
    "ytrain.append(changey(Y_train[i*subsize:(i+1)*subsize],1/10))\n"
   ]
  },
  {
   "cell_type": "code",
   "execution_count": 7,
   "metadata": {},
   "outputs": [],
   "source": [
    "xtrain = np.array(xtrain).reshape(subsize * 6, 4)\n",
    "ytrain = np.array(ytrain).reshape(subsize * 6, 1)"
   ]
  },
  {
   "cell_type": "code",
   "execution_count": 8,
   "metadata": {},
   "outputs": [
    {
     "name": "stdout",
     "output_type": "stream",
     "text": [
      "0 100 200 300 400 500 600 700 800 900 1000 1100 1200 1300 1400 1500 1600 1700 1800 1900 2000 2100 2200 2300 2400 2500 2600 2700 2800 2900 3000 3100 3200 3300 3400 3500 3600 3700 3800 3900 4000 4100 4200 4300 4400 4500 4600 4700 4800 4900 "
     ]
    }
   ],
   "source": [
    "sub_train_size = 500\n",
    "\n",
    "sample_size = 5000\n",
    "\n",
    "new_ytrain = []\n",
    "new_xtrain = []\n",
    "    \n",
    "    \n",
    "train_data_n = np.concatenate((xtrain,ytrain),1)\n",
    "\n",
    "for j in range(sample_size):\n",
    "    if j % 100 == 0:\n",
    "        print(j, end = ' ')\n",
    "    copy = np.copy(train_data_n)\n",
    "    np.random.shuffle(copy)\n",
    "    \n",
    "    sub_train_data = copy[:sub_train_size]\n",
    "\n",
    "    sub_x_train = sub_train_data[:,:-1]\n",
    "    sub_y_train = sub_train_data[:,-1:]\n",
    "\n",
    "    sub_y_train.shape = (sub_train_size,)\n",
    "\n",
    "    clf = LogisticRegression()\n",
    "    clf.fit(sub_x_train, sub_y_train)\n",
    "    predictions = clf.predict(X_val)\n",
    "\n",
    "    accuracy = np.mean(predictions == Y_val)\n",
    "    \n",
    "    new_ytrain.append(accuracy)\n",
    "    new_xtrain.append(copy[:sub_train_size])"
   ]
  },
  {
   "cell_type": "code",
   "execution_count": 9,
   "metadata": {},
   "outputs": [],
   "source": [
    "t.save(t.tensor(new_xtrain),'new_xtrain.pt')\n",
    "t.save(t.tensor(new_ytrain),'new_ytrain.pt')"
   ]
  },
  {
   "cell_type": "code",
   "execution_count": 2,
   "metadata": {},
   "outputs": [
    {
     "data": {
      "text/plain": [
       "array([[0.01996664, 0.07502837, 0.03870484, 0.58489347, 0.        ],\n",
       "       [0.86254881, 0.30053537, 0.50914283, 0.46915251, 1.        ],\n",
       "       [0.16700914, 0.99209517, 0.40704909, 0.55397992, 1.        ],\n",
       "       ...,\n",
       "       [0.48621389, 0.97540449, 0.6886619 , 0.52392252, 1.        ],\n",
       "       [0.32812737, 0.08335982, 0.16538633, 0.60135798, 0.        ],\n",
       "       [0.42405844, 1.08734954, 0.67904326, 0.66858497, 1.        ]])"
      ]
     },
     "execution_count": 2,
     "metadata": {},
     "output_type": "execute_result"
    }
   ],
   "source": [
    "data"
   ]
  },
  {
   "cell_type": "code",
   "execution_count": 29,
   "metadata": {},
   "outputs": [],
   "source": [
    "rand = np.arange(60000)\n",
    "np.random.shuffle(rand)\n",
    "train_no = rand[:50000]\n",
    "\n",
    "X = data\n",
    "\n",
    "val_no = np.setdiff1d(rand,train_no)\n",
    "\n",
    "X_train,X_val = X[train_no,:-1],X[val_no,:-1]\n",
    "Y_train,Y_val = X[train_no,-1:],X[val_no,-1:]\n",
    "Y_train.shape = (Y_train.shape[0],)  \n",
    "Y_val.shape = (Y_val.shape[0],)\n",
    "X_train.shape = (X_train.shape[0],X_train.shape[1])\n",
    "X_val.shape = (X_val.shape[0],X_val.shape[1])"
   ]
  },
  {
   "cell_type": "code",
   "execution_count": 30,
   "metadata": {},
   "outputs": [],
   "source": [
    "clf = LogisticRegression()\n",
    "clf.fit(X_train, Y_train)\n",
    "predictions = clf.predict(X_val)"
   ]
  },
  {
   "cell_type": "code",
   "execution_count": 31,
   "metadata": {},
   "outputs": [
    {
     "data": {
      "text/plain": [
       "array([1., 0., 0., ..., 1., 0., 0.])"
      ]
     },
     "execution_count": 31,
     "metadata": {},
     "output_type": "execute_result"
    }
   ],
   "source": [
    "predictions"
   ]
  },
  {
   "cell_type": "code",
   "execution_count": 32,
   "metadata": {},
   "outputs": [
    {
     "data": {
      "text/plain": [
       "array([ True,  True,  True, ...,  True,  True,  True])"
      ]
     },
     "execution_count": 32,
     "metadata": {},
     "output_type": "execute_result"
    }
   ],
   "source": [
    "Y_val==predictions"
   ]
  },
  {
   "cell_type": "code",
   "execution_count": 33,
   "metadata": {},
   "outputs": [
    {
     "data": {
      "text/plain": [
       "0.9865"
      ]
     },
     "execution_count": 33,
     "metadata": {},
     "output_type": "execute_result"
    }
   ],
   "source": [
    "np.mean(Y_val==predictions)"
   ]
  },
  {
   "cell_type": "code",
   "execution_count": null,
   "metadata": {},
   "outputs": [],
   "source": []
  }
 ],
 "metadata": {
  "kernelspec": {
   "display_name": "Syft-P7",
   "language": "python",
   "name": "syft-p7"
  },
  "language_info": {
   "codemirror_mode": {
    "name": "ipython",
    "version": 3
   },
   "file_extension": ".py",
   "mimetype": "text/x-python",
   "name": "python",
   "nbconvert_exporter": "python",
   "pygments_lexer": "ipython3",
   "version": "3.7.9"
  }
 },
 "nbformat": 4,
 "nbformat_minor": 4
}
