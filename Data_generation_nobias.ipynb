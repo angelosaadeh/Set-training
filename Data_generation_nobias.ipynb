{
 "cells": [
  {
   "cell_type": "code",
   "execution_count": 1,
   "metadata": {},
   "outputs": [
    {
     "data": {
      "text/plain": [
       "60000"
      ]
     },
     "execution_count": 1,
     "metadata": {},
     "output_type": "execute_result"
    }
   ],
   "source": [
    "import warnings\n",
    "warnings.filterwarnings('ignore')\n",
    "import math\n",
    "import random\n",
    "import numpy as np\n",
    "import pandas as pd\n",
    "from scipy.special import gamma\n",
    "from sklearn.linear_model import LogisticRegression\n",
    "import itertools\n",
    "from matplotlib import pyplot as plt\n",
    "import torch as t\n",
    "\n",
    "def factorial(n):\n",
    "    if n == 0:\n",
    "        return 1\n",
    "    else:\n",
    "        return n*factorial(n-1)\n",
    "\n",
    "def normalize(a, ax=0):\n",
    "    m = np.min(a,axis = ax)\n",
    "    M = np.max(a,axis = ax)\n",
    "    return (a-m)/(M-m)\n",
    "\n",
    "import warnings\n",
    "warnings.filterwarnings('ignore')\n",
    "\n",
    "np.set_printoptions(suppress = True)\n",
    "\n",
    "data = pd.read_csv('data.csv').values\n",
    "data = np.array(data)\n",
    "np.random.shuffle(data)\n",
    "\n",
    "len(data)\n"
   ]
  },
  {
   "cell_type": "code",
   "execution_count": 2,
   "metadata": {},
   "outputs": [],
   "source": [
    "rand = np.arange(60000)\n",
    "np.random.shuffle(rand)\n",
    "train_no = rand[:50000]\n",
    "\n",
    "X = data\n",
    "\n",
    "val_no = np.setdiff1d(rand,train_no)\n",
    "\n",
    "X_train,X_val = X[train_no,:-1],X[val_no,:-1]\n",
    "Y_train,Y_val = X[train_no,-1:],X[val_no,-1:]\n",
    "Y_train.shape = (Y_train.shape[0],)  \n",
    "Y_val.shape = (Y_val.shape[0],)\n",
    "X_train.shape = (X_train.shape[0],X_train.shape[1])\n",
    "X_val.shape = (X_val.shape[0],X_val.shape[1])"
   ]
  },
  {
   "cell_type": "code",
   "execution_count": 3,
   "metadata": {},
   "outputs": [],
   "source": [
    "xtrain = []\n",
    "ytrain = []\n",
    "\n",
    "subsize = 1000\n",
    "\n",
    "\n",
    "\n",
    "for i in range(50):\n",
    "    a = np.copy(X_train[i*subsize:(i+1)*subsize])\n",
    "    b = Y_train[i*subsize:(i+1)*subsize]\n",
    "    norm = np.random.normal(a, i/50)\n",
    "    if i%2 == 0:\n",
    "        bern = np.random.binomial(1,i/100, b.shape) \n",
    "    else:\n",
    "        bern = np.zeros(b.shape)\n",
    "    xtrain.append(norm)\n",
    "    ytrain.append(b+bern-2*b*bern)"
   ]
  },
  {
   "cell_type": "code",
   "execution_count": 4,
   "metadata": {},
   "outputs": [],
   "source": [
    "xtrain = np.array(xtrain).reshape(subsize * 50, 4)\n",
    "ytrain = np.array(ytrain).reshape(subsize * 50, 1)"
   ]
  },
  {
   "cell_type": "code",
   "execution_count": 5,
   "metadata": {
    "scrolled": true
   },
   "outputs": [
    {
     "name": "stdout",
     "output_type": "stream",
     "text": [
      "(100000, 5) (50000, 5)\n",
      "(150000, 5)\n",
      "(300000, 5) (150000, 5)\n",
      "(450000, 5)\n",
      "(900000, 5) (450000, 5)\n",
      "(1350000, 5)\n",
      "(2700000, 5) (1350000, 5)\n",
      "(4050000, 5)\n"
     ]
    }
   ],
   "source": [
    "train_data_n = np.concatenate((xtrain,ytrain),1)\n",
    "big_data = np.copy(train_data_n)\n",
    "\n",
    "for j in range(4):\n",
    "    copy = np.copy(big_data)\n",
    "    copy_2 = np.copy(big_data)\n",
    "    np.random.shuffle(copy_2)\n",
    "\n",
    "    temp = []\n",
    "    for i in range(len(copy)):\n",
    "        temp.append(copy[i])\n",
    "        temp.append(copy_2[i])\n",
    "    print(np.array(temp).shape, big_data.shape)\n",
    "    big_data = np.concatenate((big_data,np.array(temp)),0)\n",
    "    print(big_data.shape)\n",
    "    "
   ]
  },
  {
   "cell_type": "code",
   "execution_count": 6,
   "metadata": {},
   "outputs": [
    {
     "data": {
      "text/plain": [
       "8100"
      ]
     },
     "execution_count": 6,
     "metadata": {},
     "output_type": "execute_result"
    }
   ],
   "source": [
    "len(big_data)//500"
   ]
  },
  {
   "cell_type": "code",
   "execution_count": 7,
   "metadata": {},
   "outputs": [
    {
     "name": "stdout",
     "output_type": "stream",
     "text": [
      "0 , 0 100 , 100 200 , 200 300 , 300 400 , 400 500 , 500 600 , 600 700 , 700 800 , 800 900 , 900 1000 , 993 1100 , 1090 1200 , 1175 1300 , 1253 1400 , 1327 1500 , 1398 1600 , 1444 1700 , 1486 1800 , 1534 1900 , 1590 2000 , 1622 2100 , 1654 2200 , 1686 2300 , 1722 2400 , 1755 2500 , 1784 2600 , 1825 2700 , 1860 2800 , 1873 2900 , 1915 3000 , 1933 3100 , 1959 3200 , 1990 3300 , 2036 3400 , 2044 3500 , 2063 3600 , 2086 3700 , 2115 3800 , 2128 3900 , 2144 4000 , 2156 4100 , 2167 4200 , 2185 4300 , 2206 4400 , 2231 4500 , 2256 4600 , 2260 4700 , 2276 4800 , 2301 4900 , 2331 5000 , 2341 5100 , 2351 5200 , 2364 5300 , 2374 5400 , 2385 5500 , 2406 5600 , 2428 5700 , 2450 5800 , 2459 5900 , 2471 6000 , 2482 6100 , 2494 6200 , 2502 6300 , 2525 6400 , 2544 6500 , 2559 6600 , 2565 6700 , 2579 6800 , 2590 6900 , 2601 7000 , 2610 7100 , 2619 7200 , 2630 7300 , 2639 7400 , 2648 7500 , 2657 7600 , 2664 7700 , 2675 7800 , 2687 7900 , 2698 8000 , 2707 0 , 2717 100 , 2816 200 , 2916 300 , 2966 400 , 3010 500 , 3066 600 , 3146 700 , 3146 800 , 3174 900 , 3179 1000 , 3179 1100 , 3179 1200 , 3179 1300 , 3179 1400 , 3191 1500 , 3191 1600 , 3191 1700 , 3191 1800 , 3191 1900 , 3191 2000 , 3191 2100 , 3191 2200 , 3191 2300 , 3198 2400 , 3282 2500 , 3319 2600 , 3319 2700 , 3319 2800 , 3398 2900 , 3399 3000 , 3399 3100 , 3399 3200 , 3399 3300 , 3399 3400 , 3399 3500 , 3402 3600 , 3402 3700 , 3402 3800 , 3402 3900 , 3402 4000 , 3402 4100 , 3402 4200 , 3402 4300 , 3402 4400 , 3402 4500 , 3402 4600 , 3402 4700 , 3408 4800 , 3442 4900 , 3447 5000 , 3509 5100 , 3509 5200 , 3521 5300 , 3521 5400 , 3523 5500 , 3523 5600 , 3523 5700 , 3523 5800 , 3523 5900 , 3523 6000 , 3547 6100 , 3547 6200 , 3554 6300 , 3556 6400 , 3556 6500 , 3556 6600 , 3556 6700 , 3556 6800 , 3556 6900 , 3556 7000 , 3556 7100 , 3556 7200 , 3556 7300 , 3556 7400 , 3556 7500 , 3556 7600 , 3556 7700 , 3556 7800 , 3556 7900 , 3556 8000 , 3556 8100 , 3556 8200 , 3556 8300 , 3556 8400 , 3556 8500 , 3556 8600 , 3556 8700 , 3556 8800 , 3556 8900 , 3556 9000 , 3556 9100 , 3556 9200 , 3556 9300 , 3556 9400 , 3556 9500 , 3556 9600 , 3556 9700 , 3556 9800 , 3556 9900 , 3556 10000 , 3556 10100 , 3556 10200 , 3556 10300 , 3556 10400 , 3556 10500 , 3556 10600 , 3556 10700 , 3556 10800 , 3556 10900 , 3556 11000 , 3556 11100 , 3556 11200 , 3556 11300 , 3556 11400 , 3556 11500 , 3556 11600 , 3556 11700 , 3556 11800 , 3556 11900 , 3556 12000 , 3556 12100 , 3556 12200 , 3556 12300 , 3556 12400 , 3556 12500 , 3556 12600 , 3556 12700 , 3556 12800 , 3556 12900 , 3556 13000 , 3556 13100 , 3556 13200 , 3556 13300 , 3556 13400 , 3556 13500 , 3556 13600 , 3556 13700 , 3556 13800 , 3556 13900 , 3556 14000 , 3556 14100 , 3556 14200 , 3556 14300 , 3556 14400 , 3556 14500 , 3556 14600 , 3556 14700 , 3556 14800 , 3556 14900 , 3556 15000 , 3556 15100 , 3556 15200 , 3556 15300 , 3556 15400 , 3556 15500 , 3556 15600 , 3556 15700 , 3556 15800 , 3556 15900 , 3556 16000 , 3556 16100 , 3556 16200 , 3556 16300 , 3556 16400 , 3556 16500 , 3556 16600 , 3556 16700 , 3556 16800 , 3556 16900 , 3556 17000 , 3556 17100 , 3556 17200 , 3556 17300 , 3556 17400 , 3556 17500 , 3556 17600 , 3556 17700 , 3556 17800 , 3556 17900 , 3556 18000 , 3556 18100 , 3556 18200 , 3556 18300 , 3556 18400 , 3556 18500 , 3556 18600 , 3556 18700 , 3556 18800 , 3556 18900 , 3556 19000 , 3556 19100 , 3556 19200 , 3556 19300 , 3556 19400 , 3556 19500 , 3556 19600 , 3556 19700 , 3556 19800 , 3556 19900 , 3556 20000 , 3556 20100 , 3556 20200 , 3556 20300 , 3556 20400 , 3556 20500 , 3556 20600 , 3556 20700 , 3556 20800 , 3556 20900 , 3556 21000 , 3556 21100 , 3556 21200 , 3556 21300 , 3556 21400 , 3556 21500 , 3556 21600 , 3556 21700 , 3556 21800 , 3556 21900 , 3571 22000 , 3662 22100 , 3677 22200 , 3677 22300 , 3677 22400 , 3677 22500 , 3677 22600 , 3677 22700 , 3677 22800 , 3677 22900 , 3677 23000 , 3677 23100 , 3677 23200 , 3677 23300 , 3677 23400 , 3677 23500 , 3677 23600 , 3677 23700 , 3677 23800 , 3677 23900 , 3677 24000 , 3677 24100 , 3677 24200 , 3677 24300 , 3677 24400 , 3677 24500 , 3677 24600 , 3677 24700 , 3677 24800 , 3677 24900 , 3677 25000 , 3677 25100 , 3677 25200 , 3677 25300 , 3677 25400 , 3677 25500 , 3677 25600 , 3677 25700 , 3677 25800 , 3677 25900 , 3677 26000 , 3677 26100 , 3677 26200 , 3677 26300 , 3677 26400 , 3677 26500 , 3711 26600 , 3715 26700 , 3715 26800 , 3715 26900 , 3715 27000 , 3715 27100 , 3715 27200 , 3730 27300 , 3735 27400 , 3735 27500 , 3735 27600 , 3735 27700 , 3735 27800 , 3735 27900 , 3735 28000 , 3735 28100 , 3736 28200 , 3736 28300 , 3771 28400 , 3871 28500 , 3971 28600 , 4071 28700 , 4143 28800 , 4143 28900 , 4143 29000 , 4143 29100 , 4143 29200 , 4143 29300 , 4143 29400 , 4143 29500 , 4143 29600 , 4143 29700 , 4143 29800 , 4143 29900 , 4152 30000 , 4152 30100 , 4156 30200 , 4156 30300 , 4156 30400 , 4180 30500 , 4193 30600 , 4193 30700 , 4193 30800 , 4193 30900 , 4193 31000 , 4193 31100 , 4193 31200 , 4193 31300 , 4193 31400 , 4193 31500 , 4193 31600 , 4193 31700 , 4193 31800 , 4193 31900 , 4224 32000 , 4224 32100 , 4224 32200 , 4224 32300 , 4286 32400 , 4386 32500 , 4486 32600 , 4584 32700 , 4590 32800 , 4590 32900 , 4590 33000 , 4590 33100 , 4590 33200 , 4590 33300 , 4590 33400 , 4590 33500 , 4590 33600 , 4590 33700 , 4590 33800 , 4614 33900 , 4685 34000 , 4686 34100 , 4766 34200 , 4865 34300 , 4965 34400 , 5065 34500 , 5130 34600 , 5130 34700 , 5130 34800 , 5130 34900 , 5130 35000 , 5130 35100 , 5130 35200 , 5130 35300 , 5182 35400 , 5236 35500 , 5241 35600 , 5241 35700 , 5241 35800 , 5241 35900 , 5241 36000 , 5270 36100 , 5270 36200 , 5270 36300 , 5286 36400 , 5386 36500 , 5483 36600 , 5541 36700 , 5541 36800 , 5541 36900 , 5541 37000 , 5541 37100 , 5541 37200 , 5541 37300 , 5541 37400 , 5541 37500 , 5541 37600 , 5541 37700 , 5546 37800 , 5620 37900 , 5720 38000 , 5820 38100 , 5919 38200 , 6019 38300 , 6087 38400 , 6111 38500 , 6189 38600 , 6198 38700 , 6198 38800 , 6198 38900 , 6198 39000 , 6198 39100 , 6198 39200 , 6198 39300 , 6198 39400 , 6198 39500 , 6198 39600 , 6198 39700 , 6198 39800 , 6211 39900 , 6257 40000 , 6338 40100 , 6349 40200 , 6396 40300 , 6475 40400 , 6480 40500 , 6480 40600 , 6480 40700 , 6565 40800 , 6611 40900 , 6611 41000 , 6611 41100 , 6611 41200 , 6611 41300 , 6611 41400 , 6611 41500 , 6611 41600 , 6611 41700 , 6611 41800 , 6611 41900 , 6611 42000 , 6619 42100 , 6633 42200 , 6702 42300 , 6795 42400 , 6883 42500 , 6979 42600 , 7064 42700 , 7085 42800 , 7085 42900 , 7085 43000 , 7085 43100 , 7085 43200 , 7085 43300 , 7085 43400 , 7085 43500 , 7085 43600 , 7085 43700 , 7085 43800 , 7085 43900 , 7137 44000 , 7169 44100 , 7257 44200 , 7316 44300 , 7361 44400 , 7416 44500 , 7476 44600 , 7514 44700 , 7514 44800 , 7514 44900 , 7514 45000 , 7514 45100 , 7514 45200 , 7514 45300 , 7514 45400 , 7520 45500 , 7538 45600 , 7547 45700 , 7583 45800 , 7593 45900 , 7653 46000 , 7688 46100 , 7781 46200 , 7879 46300 , 7952 46400 , 8022 46500 , 8043 46600 , 8079 46700 , 8150 46800 , 8190 46900 , 8191 47000 , 8210 47100 , 8210 47200 , 8212 47300 , 8218 47400 , 8218 47500 , 8218 47600 , 8218 47700 , 8218 47800 , 8218 47900 , 8226 48000 , 8230 48100 , 8259 48200 , 8259 48300 , 8300 48400 , 8300 48500 , 8326 48600 , 8368 48700 , 8400 48800 , 8427 48900 , 8436 49000 , 8442 49100 , 8442 49200 , 8442 49300 , 8442 49400 , 8442 "
     ]
    }
   ],
   "source": [
    "sub_train_size = 500\n",
    "\n",
    "sample_size = len(big_data)//500\n",
    "\n",
    "new_ytrain = []\n",
    "new_xtrain = []\n",
    "\n",
    "accs = np.zeros(200)\n",
    "\n",
    "for j in range(sample_size):\n",
    "    if j % 100 == 0:\n",
    "        print(j,',',len(new_ytrain), end = ' ')\n",
    "    \n",
    "    sub_train_data = np.copy(big_data[j*sub_train_size:(j+1)*sub_train_size])\n",
    "\n",
    "    sub_x_train = sub_train_data[:,:-1]\n",
    "    sub_y_train = sub_train_data[:,-1:]\n",
    "\n",
    "    sub_y_train.shape = (sub_train_size,)\n",
    "\n",
    "    clf = LogisticRegression()\n",
    "    clf.fit(sub_x_train, sub_y_train)\n",
    "    predictions = clf.predict(X_val)\n",
    "\n",
    "    accuracy = np.mean(predictions == Y_val)\n",
    "    \n",
    "    k = int((accuracy-0.5)*400)\n",
    "    if accs[k]<50:\n",
    "        new_ytrain.append(accuracy)\n",
    "        new_xtrain.append(np.copy(sub_train_data))\n",
    "        accs[k]+=1\n",
    "        \n",
    "        \n",
    "for j in range(len(train_data_n)-500):\n",
    "    if j % 100 == 0:\n",
    "        print(j,',',len(new_ytrain), end = ' ')\n",
    "    \n",
    "    sub_train_data = np.copy(train_data_n[j:j+sub_train_size])\n",
    "\n",
    "    sub_x_train = sub_train_data[:,:-1]\n",
    "    sub_y_train = sub_train_data[:,-1:]\n",
    "\n",
    "    sub_y_train.shape = (sub_train_size,)\n",
    "\n",
    "    clf = LogisticRegression()\n",
    "    clf.fit(sub_x_train, sub_y_train)\n",
    "    predictions = clf.predict(X_val)\n",
    "\n",
    "    accuracy = np.mean(predictions == Y_val)\n",
    "    \n",
    "    k = int((accuracy-0.5)*400)\n",
    "    if accs[k]<50:\n",
    "        new_ytrain.append(accuracy)\n",
    "        new_xtrain.append(np.copy(sub_train_data))\n",
    "        accs[k]+=1\n",
    "        "
   ]
  },
  {
   "cell_type": "code",
   "execution_count": 8,
   "metadata": {
    "scrolled": false
   },
   "outputs": [
    {
     "name": "stdout",
     "output_type": "stream",
     "text": [
      "8442\n"
     ]
    },
    {
     "data": {
      "image/png": "[encoded data removed]",
      "text/plain": [
       "<Figure size 432x288 with 1 Axes>"
      ]
     },
     "metadata": {
      "needs_background": "light"
     },
     "output_type": "display_data"
    }
   ],
   "source": [
    "print(len(new_ytrain))\n",
    "plt.plot(accs,'.')\n",
    "plt.show()"
   ]
  },
  {
   "cell_type": "code",
   "execution_count": 9,
   "metadata": {},
   "outputs": [],
   "source": [
    "np.random.seed(1000)\n",
    "np.random.shuffle(new_xtrain)\n",
    "np.random.seed(1000)\n",
    "np.random.shuffle(new_ytrain)"
   ]
  },
  {
   "cell_type": "code",
   "execution_count": null,
   "metadata": {},
   "outputs": [],
   "source": []
  },
  {
   "cell_type": "code",
   "execution_count": 10,
   "metadata": {},
   "outputs": [],
   "source": [
    "t.save(t.tensor(new_xtrain),'new_xtrain.pt')\n",
    "t.save(t.tensor(new_ytrain),'new_ytrain.pt')"
   ]
  },
  {
   "cell_type": "code",
   "execution_count": null,
   "metadata": {},
   "outputs": [],
   "source": []
  },
  {
   "cell_type": "code",
   "execution_count": null,
   "metadata": {},
   "outputs": [],
   "source": []
  },
  {
   "cell_type": "code",
   "execution_count": null,
   "metadata": {},
   "outputs": [],
   "source": []
  },
  {
   "cell_type": "code",
   "execution_count": 29,
   "metadata": {},
   "outputs": [],
   "source": [
    "rand = np.arange(60000)\n",
    "np.random.shuffle(rand)\n",
    "train_no = rand[:50000]\n",
    "\n",
    "X = data\n",
    "\n",
    "val_no = np.setdiff1d(rand,train_no)\n",
    "\n",
    "X_train,X_val = X[train_no,:-1],X[val_no,:-1]\n",
    "Y_train,Y_val = X[train_no,-1:],X[val_no,-1:]\n",
    "Y_train.shape = (Y_train.shape[0],)  \n",
    "Y_val.shape = (Y_val.shape[0],)\n",
    "X_train.shape = (X_train.shape[0],X_train.shape[1])\n",
    "X_val.shape = (X_val.shape[0],X_val.shape[1])"
   ]
  },
  {
   "cell_type": "code",
   "execution_count": 30,
   "metadata": {},
   "outputs": [],
   "source": [
    "clf = LogisticRegression()\n",
    "clf.fit(X_train, Y_train)\n",
    "predictions = clf.predict(X_val)"
   ]
  },
  {
   "cell_type": "code",
   "execution_count": 31,
   "metadata": {},
   "outputs": [
    {
     "data": {
      "text/plain": [
       "array([1., 0., 0., ..., 1., 0., 0.])"
      ]
     },
     "execution_count": 31,
     "metadata": {},
     "output_type": "execute_result"
    }
   ],
   "source": [
    "predictions"
   ]
  },
  {
   "cell_type": "code",
   "execution_count": 32,
   "metadata": {},
   "outputs": [
    {
     "data": {
      "text/plain": [
       "array([ True,  True,  True, ...,  True,  True,  True])"
      ]
     },
     "execution_count": 32,
     "metadata": {},
     "output_type": "execute_result"
    }
   ],
   "source": [
    "Y_val==predictions"
   ]
  },
  {
   "cell_type": "code",
   "execution_count": 33,
   "metadata": {},
   "outputs": [
    {
     "data": {
      "text/plain": [
       "0.9865"
      ]
     },
     "execution_count": 33,
     "metadata": {},
     "output_type": "execute_result"
    }
   ],
   "source": [
    "np.mean(Y_val==predictions)"
   ]
  },
  {
   "cell_type": "code",
   "execution_count": 22,
   "metadata": {},
   "outputs": [
    {
     "data": {
      "image/png": "[encoded data removed]",
      "text/plain": [
       "<Figure size 432x288 with 1 Axes>"
      ]
     },
     "metadata": {
      "needs_background": "light"
     },
     "output_type": "display_data"
    }
   ],
   "source": [
    "x = np.array([i/400 for i in range(200,400)])\n",
    "plt.plot(x,(x-0.5)*400)\n",
    "plt.show()"
   ]
  },
  {
   "cell_type": "code",
   "execution_count": 23,
   "metadata": {},
   "outputs": [
    {
     "data": {
      "text/plain": [
       "array([  0.,   1.,   2.,   3.,   4.,   5.,   6.,   7.,   8.,   9.,  10.,\n",
       "        11.,  12.,  13.,  14.,  15.,  16.,  17.,  18.,  19.,  20.,  21.,\n",
       "        22.,  23.,  24.,  25.,  26.,  27.,  28.,  29.,  30.,  31.,  32.,\n",
       "        33.,  34.,  35.,  36.,  37.,  38.,  39.,  40.,  41.,  42.,  43.,\n",
       "        44.,  45.,  46.,  47.,  48.,  49.,  50.,  51.,  52.,  53.,  54.,\n",
       "        55.,  56.,  57.,  58.,  59.,  60.,  61.,  62.,  63.,  64.,  65.,\n",
       "        66.,  67.,  68.,  69.,  70.,  71.,  72.,  73.,  74.,  75.,  76.,\n",
       "        77.,  78.,  79.,  80.,  81.,  82.,  83.,  84.,  85.,  86.,  87.,\n",
       "        88.,  89.,  90.,  91.,  92.,  93.,  94.,  95.,  96.,  97.,  98.,\n",
       "        99., 100., 101., 102., 103., 104., 105., 106., 107., 108., 109.,\n",
       "       110., 111., 112., 113., 114., 115., 116., 117., 118., 119., 120.,\n",
       "       121., 122., 123., 124., 125., 126., 127., 128., 129., 130., 131.,\n",
       "       132., 133., 134., 135., 136., 137., 138., 139., 140., 141., 142.,\n",
       "       143., 144., 145., 146., 147., 148., 149., 150., 151., 152., 153.,\n",
       "       154., 155., 156., 157., 158., 159., 160., 161., 162., 163., 164.,\n",
       "       165., 166., 167., 168., 169., 170., 171., 172., 173., 174., 175.,\n",
       "       176., 177., 178., 179., 180., 181., 182., 183., 184., 185., 186.,\n",
       "       187., 188., 189., 190., 191., 192., 193., 194., 195., 196., 197.,\n",
       "       198., 199.])"
      ]
     },
     "execution_count": 23,
     "metadata": {},
     "output_type": "execute_result"
    }
   ],
   "source": [
    "(x-0.5)*400"
   ]
  },
  {
   "cell_type": "code",
   "execution_count": 69,
   "metadata": {},
   "outputs": [],
   "source": [
    "a = np.random.randint(0,9,(5,2,2))\n",
    "b = np.random.uniform(0,1,(5,1))"
   ]
  },
  {
   "cell_type": "code",
   "execution_count": 70,
   "metadata": {},
   "outputs": [
    {
     "name": "stdout",
     "output_type": "stream",
     "text": [
      "[[3 6]\n",
      " [2 5]] [0.35071497]\n",
      "[[8 5]\n",
      " [6 6]] [0.3567042]\n",
      "[[7 6]\n",
      " [3 4]] [0.87796415]\n",
      "[[8 1]\n",
      " [3 7]] [0.49604127]\n",
      "[[2 0]\n",
      " [4 4]] [0.99237352]\n"
     ]
    }
   ],
   "source": [
    "for i in range(5):\n",
    "    print(a[i], b[i])"
   ]
  },
  {
   "cell_type": "code",
   "execution_count": 71,
   "metadata": {},
   "outputs": [],
   "source": [
    "np.random.seed(1000)\n",
    "np.random.shuffle(a)\n",
    "np.random.seed(1000)\n",
    "np.random.shuffle(b)"
   ]
  },
  {
   "cell_type": "code",
   "execution_count": 72,
   "metadata": {},
   "outputs": [
    {
     "name": "stdout",
     "output_type": "stream",
     "text": [
      "[[7 6]\n",
      " [3 4]] [0.87796415]\n",
      "[[8 5]\n",
      " [6 6]] [0.3567042]\n",
      "[[3 6]\n",
      " [2 5]] [0.35071497]\n",
      "[[2 0]\n",
      " [4 4]] [0.99237352]\n",
      "[[8 1]\n",
      " [3 7]] [0.49604127]\n"
     ]
    }
   ],
   "source": [
    "for i in range(5):\n",
    "    print(a[i], b[i])"
   ]
  },
  {
   "cell_type": "code",
   "execution_count": null,
   "metadata": {},
   "outputs": [],
   "source": []
  },
  {
   "cell_type": "code",
   "execution_count": null,
   "metadata": {},
   "outputs": [],
   "source": []
  }
 ],
 "metadata": {
  "kernelspec": {
   "display_name": "tcuda",
   "language": "python",
   "name": "tcuda"
  },
  "language_info": {
   "codemirror_mode": {
    "name": "ipython",
    "version": 3
   },
   "file_extension": ".py",
   "mimetype": "text/x-python",
   "name": "python",
   "nbconvert_exporter": "python",
   "pygments_lexer": "ipython3",
   "version": "3.7.16"
  }
 },
 "nbformat": 4,
 "nbformat_minor": 4
}
