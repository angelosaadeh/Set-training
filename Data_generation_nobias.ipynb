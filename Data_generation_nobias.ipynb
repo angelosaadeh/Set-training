{
 "cells": [
  {
   "cell_type": "code",
   "execution_count": 1,
   "metadata": {},
   "outputs": [
    {
     "data": {
      "text/plain": [
       "60000"
      ]
     },
     "execution_count": 1,
     "metadata": {},
     "output_type": "execute_result"
    }
   ],
   "source": [
    "import warnings\n",
    "warnings.filterwarnings('ignore')\n",
    "import math\n",
    "import random\n",
    "import numpy as np\n",
    "import pandas as pd\n",
    "from scipy.special import gamma\n",
    "from sklearn.linear_model import LogisticRegression\n",
    "import itertools\n",
    "from matplotlib import pyplot as plt\n",
    "import torch as t\n",
    "\n",
    "def factorial(n):\n",
    "    if n == 0:\n",
    "        return 1\n",
    "    else:\n",
    "        return n*factorial(n-1)\n",
    "\n",
    "def normalize(a, ax=0):\n",
    "    m = np.min(a,axis = ax)\n",
    "    M = np.max(a,axis = ax)\n",
    "    return (a-m)/(M-m)\n",
    "\n",
    "import warnings\n",
    "warnings.filterwarnings('ignore')\n",
    "\n",
    "np.set_printoptions(suppress = True)\n",
    "\n",
    "data = pd.read_csv('data.csv').values\n",
    "data = np.array(data)\n",
    "np.random.shuffle(data)\n",
    "\n",
    "len(data)\n"
   ]
  },
  {
   "cell_type": "code",
   "execution_count": 2,
   "metadata": {},
   "outputs": [],
   "source": [
    "rand = np.arange(60000)\n",
    "np.random.shuffle(rand)\n",
    "train_no = rand[:50000]\n",
    "\n",
    "X = data\n",
    "\n",
    "val_no = np.setdiff1d(rand,train_no)\n",
    "\n",
    "X_train,X_val = X[train_no,:-1],X[val_no,:-1]\n",
    "Y_train,Y_val = X[train_no,-1:],X[val_no,-1:]\n",
    "Y_train.shape = (Y_train.shape[0],)  \n",
    "Y_val.shape = (Y_val.shape[0],)\n",
    "X_train.shape = (X_train.shape[0],X_train.shape[1])\n",
    "X_val.shape = (X_val.shape[0],X_val.shape[1])"
   ]
  },
  {
   "cell_type": "code",
   "execution_count": 3,
   "metadata": {},
   "outputs": [],
   "source": [
    "def changey(y, p):\n",
    "    r = np.random.binomial(1,1-p,y.shape)\n",
    "    x = np.random.randint(0,10,y.shape)\n",
    "    return y*r+x-x*r\n",
    "\n",
    "def changex(x, p):\n",
    "    return x+np.random.normal(0,p,x.shape)"
   ]
  },
  {
   "cell_type": "code",
   "execution_count": 4,
   "metadata": {},
   "outputs": [],
   "source": [
    "xtrain = []\n",
    "ytrain = []\n",
    "\n",
    "subsize = 1000\n",
    "\n",
    "\n",
    "\n",
    "for i in range(50):\n",
    "    a = np.copy(X_train[i*subsize:(i+1)*subsize])\n",
    "    b = Y_train[i*subsize:(i+1)*subsize]\n",
    "    norm = np.random.normal(a, i/50)\n",
    "    if i%2 == 0:\n",
    "        bern = np.random.binomial(1,i/100, b.shape) \n",
    "    else:\n",
    "        bern = np.zeros(b.shape)\n",
    "    xtrain.append(norm)\n",
    "    ytrain.append(b+bern-2*b*bern)"
   ]
  },
  {
   "cell_type": "code",
   "execution_count": 5,
   "metadata": {},
   "outputs": [],
   "source": [
    "xtrain = np.array(xtrain).reshape(subsize * 50, 4)\n",
    "ytrain = np.array(ytrain).reshape(subsize * 50, 1)"
   ]
  },
  {
   "cell_type": "code",
   "execution_count": 6,
   "metadata": {
    "scrolled": true
   },
   "outputs": [
    {
     "name": "stdout",
     "output_type": "stream",
     "text": [
      "(100000, 5) (50000, 5)\n",
      "(150000, 5)\n",
      "(300000, 5) (150000, 5)\n",
      "(450000, 5)\n",
      "(900000, 5) (450000, 5)\n",
      "(1350000, 5)\n",
      "(2700000, 5) (1350000, 5)\n",
      "(4050000, 5)\n"
     ]
    }
   ],
   "source": [
    "train_data_n = np.concatenate((xtrain,ytrain),1)\n",
    "big_data = np.copy(train_data_n)\n",
    "\n",
    "for j in range(4):\n",
    "    copy = np.copy(big_data)\n",
    "    copy_2 = np.copy(big_data)\n",
    "    np.random.shuffle(copy_2)\n",
    "\n",
    "    temp = []\n",
    "    for i in range(len(copy)):\n",
    "        temp.append(copy[i])\n",
    "        temp.append(copy_2[i])\n",
    "    print(np.array(temp).shape, big_data.shape)\n",
    "    big_data = np.concatenate((big_data,np.array(temp)),0)\n",
    "    print(big_data.shape)\n",
    "    "
   ]
  },
  {
   "cell_type": "code",
   "execution_count": 7,
   "metadata": {},
   "outputs": [
    {
     "data": {
      "text/plain": [
       "8100"
      ]
     },
     "execution_count": 7,
     "metadata": {},
     "output_type": "execute_result"
    }
   ],
   "source": [
    "len(big_data)//500"
   ]
  },
  {
   "cell_type": "code",
   "execution_count": 13,
   "metadata": {},
   "outputs": [
    {
     "name": "stdout",
     "output_type": "stream",
     "text": [
      "0 , 0 100 , 100 200 , 200 300 , 300 400 , 400 500 , 500 600 , 600 700 , 700 800 , 800 900 , 900 1000 , 1000 1100 , 1095 1200 , 1170 1300 , 1225 1400 , 1287 1500 , 1355 1600 , 1395 1700 , 1441 1800 , 1483 1900 , 1534 2000 , 1570 2100 , 1597 2200 , 1630 2300 , 1654 2400 , 1689 2500 , 1720 2600 , 1761 2700 , 1797 2800 , 1809 2900 , 1854 3000 , 1870 3100 , 1889 3200 , 1922 3300 , 1969 3400 , 1980 3500 , 1997 3600 , 2027 3700 , 2063 3800 , 2071 3900 , 2092 4000 , 2111 4100 , 2127 4200 , 2146 4300 , 2175 4400 , 2206 4500 , 2237 4600 , 2243 4700 , 2252 4800 , 2275 4900 , 2304 5000 , 2312 5100 , 2324 5200 , 2335 5300 , 2350 5400 , 2365 5500 , 2384 5600 , 2405 5700 , 2430 5800 , 2438 5900 , 2450 6000 , 2462 6100 , 2474 6200 , 2488 6300 , 2499 6400 , 2513 6500 , 2533 6600 , 2545 6700 , 2553 6800 , 2565 6900 , 2577 7000 , 2588 7100 , 2595 7200 , 2606 7300 , 2614 7400 , 2622 7500 , 2629 7600 , 2635 7700 , 2645 7800 , 2659 7900 , 2671 8000 , 2683 0 , 2696 100 , 2774 200 , 2874 300 , 2974 400 , 3058 500 , 3077 600 , 3092 700 , 3129 800 , 3197 900 , 3237 1000 , 3248 1100 , 3248 1200 , 3248 1300 , 3249 1400 , 3249 1500 , 3254 1600 , 3254 1700 , 3254 1800 , 3254 1900 , 3316 2000 , 3380 2100 , 3380 2200 , 3380 2300 , 3380 2400 , 3380 2500 , 3380 2600 , 3380 2700 , 3380 2800 , 3380 2900 , 3380 3000 , 3380 3100 , 3380 3200 , 3380 3300 , 3380 3400 , 3380 3500 , 3380 3600 , 3380 3700 , 3380 3800 , 3380 3900 , 3380 4000 , 3380 4100 , 3380 4200 , 3380 4300 , 3380 4400 , 3380 4500 , 3380 4600 , 3380 4700 , 3380 4800 , 3410 4900 , 3455 5000 , 3488 5100 , 3492 5200 , 3492 5300 , 3492 5400 , 3492 5500 , 3492 5600 , 3492 5700 , 3492 5800 , 3492 5900 , 3492 6000 , 3499 6100 , 3514 6200 , 3514 6300 , 3514 6400 , 3514 6500 , 3514 6600 , 3514 6700 , 3514 6800 , 3514 6900 , 3514 7000 , 3514 7100 , 3514 7200 , 3514 7300 , 3514 7400 , 3514 7500 , 3514 7600 , 3514 7700 , 3514 7800 , 3514 7900 , 3514 8000 , 3514 8100 , 3514 8200 , 3514 8300 , 3514 8400 , 3514 8500 , 3514 8600 , 3514 8700 , 3514 8800 , 3514 8900 , 3514 9000 , 3514 9100 , 3514 9200 , 3514 9300 , 3514 9400 , 3514 9500 , 3514 9600 , 3514 9700 , 3514 9800 , 3514 9900 , 3514 10000 , 3514 10100 , 3514 10200 , 3514 10300 , 3514 10400 , 3514 10500 , 3514 10600 , 3514 10700 , 3514 10800 , 3514 10900 , 3514 11000 , 3514 11100 , 3514 11200 , 3514 11300 , 3514 11400 , 3514 11500 , 3514 11600 , 3514 11700 , 3514 11800 , 3514 11900 , 3514 12000 , 3514 12100 , 3514 12200 , 3514 12300 , 3514 12400 , 3514 12500 , 3514 12600 , 3514 12700 , 3514 12800 , 3514 12900 , 3514 13000 , 3514 13100 , 3514 13200 , 3514 13300 , 3514 13400 , 3514 13500 , 3514 13600 , 3514 13700 , 3514 13800 , 3514 13900 , 3514 14000 , 3514 14100 , 3514 14200 , 3514 14300 , 3514 14400 , 3514 14500 , 3514 14600 , 3514 14700 , 3514 14800 , 3514 14900 , 3514 15000 , 3514 15100 , 3514 15200 , 3514 15300 , 3514 15400 , 3514 15500 , 3514 15600 , 3514 15700 , 3514 15800 , 3514 15900 , 3514 16000 , 3514 16100 , 3514 16200 , 3514 16300 , 3514 16400 , 3514 16500 , 3514 16600 , 3514 16700 , 3514 16800 , 3514 16900 , 3514 17000 , 3514 17100 , 3514 17200 , 3514 17300 , 3514 17400 , 3514 17500 , 3514 17600 , 3514 17700 , 3514 17800 , 3514 17900 , 3514 18000 , 3514 18100 , 3514 18200 , 3514 18300 , 3514 18400 , 3514 18500 , 3514 18600 , 3514 18700 , 3514 18800 , 3514 18900 , 3514 19000 , 3514 19100 , 3514 19200 , 3514 19300 , 3514 19400 , 3514 19500 , 3514 19600 , 3514 19700 , 3514 19800 , 3514 19900 , 3514 20000 , 3514 20100 , 3514 20200 , 3514 20300 , 3514 20400 , 3514 20500 , 3514 20600 , 3514 20700 , 3514 20800 , 3514 20900 , 3514 21000 , 3514 21100 , 3514 21200 , 3514 21300 , 3514 21400 , 3514 21500 , 3514 21600 , 3514 21700 , 3514 21800 , 3514 21900 , 3514 22000 , 3514 22100 , 3514 22200 , 3519 22300 , 3519 22400 , 3519 22500 , 3519 22600 , 3519 22700 , 3519 22800 , 3519 22900 , 3519 23000 , 3519 23100 , 3519 23200 , 3519 23300 , 3519 23400 , 3519 23500 , 3519 23600 , 3519 23700 , 3519 23800 , 3519 23900 , 3531 24000 , 3539 24100 , 3549 24200 , 3627 24300 , 3727 24400 , 3822 24500 , 3851 24600 , 3851 24700 , 3851 24800 , 3851 24900 , 3851 25000 , 3851 25100 , 3851 25200 , 3851 25300 , 3851 25400 , 3851 25500 , 3851 25600 , 3851 25700 , 3851 25800 , 3851 25900 , 3851 26000 , 3851 26100 , 3851 26200 , 3851 26300 , 3851 26400 , 3851 26500 , 3851 26600 , 3851 26700 , 3851 26800 , 3851 26900 , 3851 27000 , 3851 27100 , 3851 27200 , 3851 27300 , 3851 27400 , 3851 27500 , 3851 27600 , 3851 27700 , 3851 27800 , 3851 27900 , 3851 28000 , 3851 28100 , 3857 28200 , 3858 28300 , 3858 28400 , 3858 28500 , 3858 28600 , 3858 28700 , 3858 28800 , 3858 28900 , 3858 29000 , 3858 29100 , 3858 29200 , 3858 29300 , 3858 29400 , 3858 29500 , 3858 29600 , 3889 29700 , 3904 29800 , 3977 29900 , 4066 30000 , 4151 30100 , 4165 30200 , 4165 30300 , 4165 30400 , 4165 30500 , 4165 30600 , 4165 30700 , 4165 30800 , 4165 30900 , 4165 31000 , 4165 31100 , 4165 31200 , 4165 31300 , 4165 31400 , 4165 31500 , 4165 31600 , 4165 31700 , 4165 31800 , 4165 31900 , 4165 32000 , 4165 32100 , 4174 32200 , 4174 32300 , 4174 32400 , 4174 32500 , 4174 32600 , 4174 32700 , 4174 32800 , 4174 32900 , 4174 33000 , 4174 33100 , 4174 33200 , 4174 33300 , 4174 33400 , 4174 33500 , 4174 33600 , 4242 33700 , 4275 33800 , 4363 33900 , 4463 34000 , 4563 34100 , 4627 34200 , 4627 34300 , 4627 34400 , 4653 34500 , 4720 34600 , 4820 34700 , 4893 34800 , 4895 34900 , 4895 35000 , 4895 35100 , 4895 35200 , 4895 35300 , 4895 35400 , 4895 35500 , 4895 35600 , 4895 35700 , 4895 35800 , 4895 35900 , 4895 36000 , 4900 36100 , 4994 36200 , 5094 36300 , 5176 36400 , 5229 36500 , 5287 36600 , 5370 36700 , 5447 36800 , 5447 36900 , 5447 37000 , 5447 37100 , 5447 37200 , 5447 37300 , 5447 37400 , 5447 37500 , 5447 37600 , 5447 37700 , 5447 37800 , 5447 37900 , 5452 38000 , 5507 38100 , 5571 38200 , 5620 38300 , 5682 38400 , 5773 38500 , 5866 38600 , 5874 38700 , 5875 38800 , 5948 38900 , 6013 39000 , 6013 39100 , 6013 39200 , 6013 39300 , 6013 39400 , 6013 39500 , 6013 39600 , 6013 39700 , 6019 39800 , 6030 39900 , 6055 40000 , 6114 40100 , 6214 40200 , 6308 40300 , 6403 40400 , 6502 40500 , 6563 40600 , 6563 40700 , 6563 40800 , 6588 40900 , 6685 41000 , 6780 41100 , 6819 41200 , 6819 41300 , 6819 41400 , 6819 41500 , 6819 41600 , 6819 41700 , 6819 41800 , 6819 41900 , 6846 42000 , 6882 42100 , 6906 42200 , 6995 42300 , 7064 42400 , 7077 42500 , 7117 42600 , 7212 42700 , 7235 42800 , 7305 42900 , 7357 43000 , 7370 43100 , 7370 43200 , 7370 43300 , 7370 43400 , 7370 43500 , 7370 43600 , 7370 43700 , 7370 43800 , 7409 43900 , 7423 44000 , 7445 44100 , 7514 44200 , 7563 44300 , 7636 44400 , 7655 44500 , 7655 44600 , 7724 44700 , 7752 44800 , 7804 44900 , 7815 45000 , 7851 45100 , 7855 45200 , 7895 45300 , 7909 45400 , 7909 45500 , 7909 45600 , 7909 45700 , 7909 45800 , 7909 45900 , 7909 46000 , 7909 46100 , 7909 46200 , 7909 46300 , 7909 46400 , 7926 46500 , 7963 46600 , 7988 46700 , 7988 46800 , 7988 46900 , 8005 47000 , 8005 47100 , 8005 47200 , 8005 47300 , 8005 47400 , 8005 47500 , 8005 47600 , 8005 47700 , 8005 47800 , 8009 47900 , 8019 48000 , 8019 48100 , 8026 48200 , 8080 48300 , 8080 48400 , 8080 48500 , 8082 48600 , 8104 48700 , 8125 48800 , 8144 48900 , 8144 49000 , 8150 49100 , 8175 49200 , 8178 49300 , 8178 49400 , 8178 "
     ]
    }
   ],
   "source": [
    "sub_train_size = 500\n",
    "\n",
    "sample_size = len(big_data)//500\n",
    "\n",
    "new_ytrain = []\n",
    "new_xtrain = []\n",
    "\n",
    "accs = np.zeros(200)\n",
    "\n",
    "for j in range(sample_size):\n",
    "    if j % 100 == 0:\n",
    "        print(j,',',len(new_ytrain), end = ' ')\n",
    "    \n",
    "    sub_train_data = big_data[j*sub_train_size:(j+1)*sub_train_size]\n",
    "\n",
    "    sub_x_train = sub_train_data[:,:-1]\n",
    "    sub_y_train = sub_train_data[:,-1:]\n",
    "\n",
    "    sub_y_train.shape = (sub_train_size,)\n",
    "\n",
    "    clf = LogisticRegression()\n",
    "    clf.fit(sub_x_train, sub_y_train)\n",
    "    predictions = clf.predict(X_val)\n",
    "\n",
    "    accuracy = np.mean(predictions == Y_val)\n",
    "    \n",
    "    k = int((accuracy-0.5)*400)\n",
    "    if accs[k]<50:\n",
    "        new_ytrain.append(accuracy)\n",
    "        new_xtrain.append(copy[:sub_train_size])\n",
    "        accs[k]+=1\n",
    "        \n",
    "        \n",
    "for j in range(len(train_data_n)-500):\n",
    "    if j % 100 == 0:\n",
    "        print(j,',',len(new_ytrain), end = ' ')\n",
    "    \n",
    "    sub_train_data = train_data_n[j:j+sub_train_size]\n",
    "\n",
    "    sub_x_train = sub_train_data[:,:-1]\n",
    "    sub_y_train = sub_train_data[:,-1:]\n",
    "\n",
    "    sub_y_train.shape = (sub_train_size,)\n",
    "\n",
    "    clf = LogisticRegression()\n",
    "    clf.fit(sub_x_train, sub_y_train)\n",
    "    predictions = clf.predict(X_val)\n",
    "\n",
    "    accuracy = np.mean(predictions == Y_val)\n",
    "    \n",
    "    k = int((accuracy-0.5)*400)\n",
    "    if accs[k]<50:\n",
    "        new_ytrain.append(accuracy)\n",
    "        new_xtrain.append(copy[:sub_train_size])\n",
    "        accs[k]+=1\n",
    "        "
   ]
  },
  {
   "cell_type": "code",
   "execution_count": 15,
   "metadata": {
    "scrolled": false
   },
   "outputs": [
    {
     "name": "stdout",
     "output_type": "stream",
     "text": [
      "8178\n"
     ]
    },
    {
     "data": {
      "image/png": "[encoded data removed]",
      "text/plain": [
       "<Figure size 432x288 with 1 Axes>"
      ]
     },
     "metadata": {
      "needs_background": "light"
     },
     "output_type": "display_data"
    }
   ],
   "source": [
    "print(len(new_ytrain))\n",
    "plt.plot(accs,'.')\n",
    "plt.show()"
   ]
  },
  {
   "cell_type": "code",
   "execution_count": 73,
   "metadata": {},
   "outputs": [],
   "source": [
    "np.random.seed(1000)\n",
    "np.random.shuffle(new_xtrain)\n",
    "np.random.seed(1000)\n",
    "np.random.shuffle(new_ytrain)"
   ]
  },
  {
   "cell_type": "code",
   "execution_count": null,
   "metadata": {},
   "outputs": [],
   "source": []
  },
  {
   "cell_type": "code",
   "execution_count": 74,
   "metadata": {},
   "outputs": [],
   "source": [
    "t.save(t.tensor(new_xtrain),'new_xtrain.pt')\n",
    "t.save(t.tensor(new_ytrain),'new_ytrain.pt')"
   ]
  },
  {
   "cell_type": "code",
   "execution_count": 2,
   "metadata": {},
   "outputs": [
    {
     "data": {
      "text/plain": [
       "array([[0.01996664, 0.07502837, 0.03870484, 0.58489347, 0.        ],\n",
       "       [0.86254881, 0.30053537, 0.50914283, 0.46915251, 1.        ],\n",
       "       [0.16700914, 0.99209517, 0.40704909, 0.55397992, 1.        ],\n",
       "       ...,\n",
       "       [0.48621389, 0.97540449, 0.6886619 , 0.52392252, 1.        ],\n",
       "       [0.32812737, 0.08335982, 0.16538633, 0.60135798, 0.        ],\n",
       "       [0.42405844, 1.08734954, 0.67904326, 0.66858497, 1.        ]])"
      ]
     },
     "execution_count": 2,
     "metadata": {},
     "output_type": "execute_result"
    }
   ],
   "source": [
    "data"
   ]
  },
  {
   "cell_type": "code",
   "execution_count": 29,
   "metadata": {},
   "outputs": [],
   "source": [
    "rand = np.arange(60000)\n",
    "np.random.shuffle(rand)\n",
    "train_no = rand[:50000]\n",
    "\n",
    "X = data\n",
    "\n",
    "val_no = np.setdiff1d(rand,train_no)\n",
    "\n",
    "X_train,X_val = X[train_no,:-1],X[val_no,:-1]\n",
    "Y_train,Y_val = X[train_no,-1:],X[val_no,-1:]\n",
    "Y_train.shape = (Y_train.shape[0],)  \n",
    "Y_val.shape = (Y_val.shape[0],)\n",
    "X_train.shape = (X_train.shape[0],X_train.shape[1])\n",
    "X_val.shape = (X_val.shape[0],X_val.shape[1])"
   ]
  },
  {
   "cell_type": "code",
   "execution_count": 30,
   "metadata": {},
   "outputs": [],
   "source": [
    "clf = LogisticRegression()\n",
    "clf.fit(X_train, Y_train)\n",
    "predictions = clf.predict(X_val)"
   ]
  },
  {
   "cell_type": "code",
   "execution_count": 31,
   "metadata": {},
   "outputs": [
    {
     "data": {
      "text/plain": [
       "array([1., 0., 0., ..., 1., 0., 0.])"
      ]
     },
     "execution_count": 31,
     "metadata": {},
     "output_type": "execute_result"
    }
   ],
   "source": [
    "predictions"
   ]
  },
  {
   "cell_type": "code",
   "execution_count": 32,
   "metadata": {},
   "outputs": [
    {
     "data": {
      "text/plain": [
       "array([ True,  True,  True, ...,  True,  True,  True])"
      ]
     },
     "execution_count": 32,
     "metadata": {},
     "output_type": "execute_result"
    }
   ],
   "source": [
    "Y_val==predictions"
   ]
  },
  {
   "cell_type": "code",
   "execution_count": 33,
   "metadata": {},
   "outputs": [
    {
     "data": {
      "text/plain": [
       "0.9865"
      ]
     },
     "execution_count": 33,
     "metadata": {},
     "output_type": "execute_result"
    }
   ],
   "source": [
    "np.mean(Y_val==predictions)"
   ]
  },
  {
   "cell_type": "code",
   "execution_count": 22,
   "metadata": {},
   "outputs": [
    {
     "data": {
      "image/png": "[encoded data removed]",
      "text/plain": [
       "<Figure size 432x288 with 1 Axes>"
      ]
     },
     "metadata": {
      "needs_background": "light"
     },
     "output_type": "display_data"
    }
   ],
   "source": [
    "x = np.array([i/400 for i in range(200,400)])\n",
    "plt.plot(x,(x-0.5)*400)\n",
    "plt.show()"
   ]
  },
  {
   "cell_type": "code",
   "execution_count": 23,
   "metadata": {},
   "outputs": [
    {
     "data": {
      "text/plain": [
       "array([  0.,   1.,   2.,   3.,   4.,   5.,   6.,   7.,   8.,   9.,  10.,\n",
       "        11.,  12.,  13.,  14.,  15.,  16.,  17.,  18.,  19.,  20.,  21.,\n",
       "        22.,  23.,  24.,  25.,  26.,  27.,  28.,  29.,  30.,  31.,  32.,\n",
       "        33.,  34.,  35.,  36.,  37.,  38.,  39.,  40.,  41.,  42.,  43.,\n",
       "        44.,  45.,  46.,  47.,  48.,  49.,  50.,  51.,  52.,  53.,  54.,\n",
       "        55.,  56.,  57.,  58.,  59.,  60.,  61.,  62.,  63.,  64.,  65.,\n",
       "        66.,  67.,  68.,  69.,  70.,  71.,  72.,  73.,  74.,  75.,  76.,\n",
       "        77.,  78.,  79.,  80.,  81.,  82.,  83.,  84.,  85.,  86.,  87.,\n",
       "        88.,  89.,  90.,  91.,  92.,  93.,  94.,  95.,  96.,  97.,  98.,\n",
       "        99., 100., 101., 102., 103., 104., 105., 106., 107., 108., 109.,\n",
       "       110., 111., 112., 113., 114., 115., 116., 117., 118., 119., 120.,\n",
       "       121., 122., 123., 124., 125., 126., 127., 128., 129., 130., 131.,\n",
       "       132., 133., 134., 135., 136., 137., 138., 139., 140., 141., 142.,\n",
       "       143., 144., 145., 146., 147., 148., 149., 150., 151., 152., 153.,\n",
       "       154., 155., 156., 157., 158., 159., 160., 161., 162., 163., 164.,\n",
       "       165., 166., 167., 168., 169., 170., 171., 172., 173., 174., 175.,\n",
       "       176., 177., 178., 179., 180., 181., 182., 183., 184., 185., 186.,\n",
       "       187., 188., 189., 190., 191., 192., 193., 194., 195., 196., 197.,\n",
       "       198., 199.])"
      ]
     },
     "execution_count": 23,
     "metadata": {},
     "output_type": "execute_result"
    }
   ],
   "source": [
    "(x-0.5)*400"
   ]
  },
  {
   "cell_type": "code",
   "execution_count": 69,
   "metadata": {},
   "outputs": [],
   "source": [
    "a = np.random.randint(0,9,(5,2,2))\n",
    "b = np.random.uniform(0,1,(5,1))"
   ]
  },
  {
   "cell_type": "code",
   "execution_count": 70,
   "metadata": {},
   "outputs": [
    {
     "name": "stdout",
     "output_type": "stream",
     "text": [
      "[[3 6]\n",
      " [2 5]] [0.35071497]\n",
      "[[8 5]\n",
      " [6 6]] [0.3567042]\n",
      "[[7 6]\n",
      " [3 4]] [0.87796415]\n",
      "[[8 1]\n",
      " [3 7]] [0.49604127]\n",
      "[[2 0]\n",
      " [4 4]] [0.99237352]\n"
     ]
    }
   ],
   "source": [
    "for i in range(5):\n",
    "    print(a[i], b[i])"
   ]
  },
  {
   "cell_type": "code",
   "execution_count": 71,
   "metadata": {},
   "outputs": [],
   "source": [
    "np.random.seed(1000)\n",
    "np.random.shuffle(a)\n",
    "np.random.seed(1000)\n",
    "np.random.shuffle(b)"
   ]
  },
  {
   "cell_type": "code",
   "execution_count": 72,
   "metadata": {},
   "outputs": [
    {
     "name": "stdout",
     "output_type": "stream",
     "text": [
      "[[7 6]\n",
      " [3 4]] [0.87796415]\n",
      "[[8 5]\n",
      " [6 6]] [0.3567042]\n",
      "[[3 6]\n",
      " [2 5]] [0.35071497]\n",
      "[[2 0]\n",
      " [4 4]] [0.99237352]\n",
      "[[8 1]\n",
      " [3 7]] [0.49604127]\n"
     ]
    }
   ],
   "source": [
    "for i in range(5):\n",
    "    print(a[i], b[i])"
   ]
  },
  {
   "cell_type": "code",
   "execution_count": null,
   "metadata": {},
   "outputs": [],
   "source": []
  },
  {
   "cell_type": "code",
   "execution_count": null,
   "metadata": {},
   "outputs": [],
   "source": []
  }
 ],
 "metadata": {
  "kernelspec": {
   "display_name": "tcuda",
   "language": "python",
   "name": "tcuda"
  },
  "language_info": {
   "codemirror_mode": {
    "name": "ipython",
    "version": 3
   },
   "file_extension": ".py",
   "mimetype": "text/x-python",
   "name": "python",
   "nbconvert_exporter": "python",
   "pygments_lexer": "ipython3",
   "version": "3.7.16"
  }
 },
 "nbformat": 4,
 "nbformat_minor": 4
}
