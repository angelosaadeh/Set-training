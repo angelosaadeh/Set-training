{
 "cells": [
  {
   "cell_type": "code",
   "execution_count": 1,
   "id": "c61f11d0",
   "metadata": {},
   "outputs": [
    {
     "name": "stderr",
     "output_type": "stream",
     "text": [
      "/home/angelo/anaconda3/envs/tcuda/lib/python3.7/site-packages/tqdm/auto.py:21: TqdmWarning: IProgress not found. Please update jupyter and ipywidgets. See https://ipywidgets.readthedocs.io/en/stable/user_install.html\n",
      "  from .autonotebook import tqdm as notebook_tqdm\n"
     ]
    }
   ],
   "source": [
    "import torchvision\n",
    "import numpy as np\n",
    "import random\n",
    "import torch \n",
    "import torch.optim as optim\n",
    "import torch.nn as nn\n",
    "import torch.nn.functional as F\n",
    "from matplotlib import pyplot as plt"
   ]
  },
  {
   "cell_type": "code",
   "execution_count": 2,
   "id": "17183bfe",
   "metadata": {},
   "outputs": [],
   "source": [
    "train_data = torchvision.datasets.MNIST('./data',download=True)\n",
    "test_data = torchvision.datasets.MNIST('data',train=False)\n",
    "\n",
    "train, labels = np.array(train_data.data.view(60000,784)/255) , np.array(train_data.targets)\n",
    "test, test_labels = np.array(test_data.data.view(10000,784)/255) , np.array(test_data.targets)\n",
    "\n",
    "X = []\n",
    "sum_X = []\n",
    "for i in range(100000):\n",
    "    k = random.sample(range(len(train)), 3) \n",
    "    X.append(train[k])\n",
    "    sum_X.append(np.sum(labels[k]))\n",
    "X, sum_X = np.array(X), np.array(sum_X)"
   ]
  },
  {
   "cell_type": "code",
   "execution_count": 3,
   "id": "447d9a64",
   "metadata": {},
   "outputs": [
    {
     "data": {
      "text/plain": [
       "True"
      ]
     },
     "execution_count": 3,
     "metadata": {},
     "output_type": "execute_result"
    }
   ],
   "source": [
    "def gen_test_data(samples, length):\n",
    "    Y = []\n",
    "    sum_Y = []\n",
    "    for i in range(samples):\n",
    "        k = random.sample(range(len(test)), length) \n",
    "        Y.append(test[k])\n",
    "        sum_Y.append(np.sum(test_labels[k]))\n",
    "    return np.array(Y), np.array(sum_Y)\n",
    "\n",
    "torch.cuda.is_available()"
   ]
  },
  {
   "cell_type": "code",
   "execution_count": 4,
   "id": "764aee87",
   "metadata": {},
   "outputs": [],
   "source": [
    "X, sum_X = torch.tensor(X).cuda(), torch.tensor(sum_X).float().cuda().unsqueeze(-1)\n",
    "Y, sum_Y = gen_test_data(1000,3)\n",
    "Y, sum_Y = torch.tensor(Y).cuda(), torch.tensor(sum_Y).float().unsqueeze(-1)"
   ]
  },
  {
   "cell_type": "code",
   "execution_count": 5,
   "id": "483c0be5",
   "metadata": {},
   "outputs": [],
   "source": [
    "class MyNet(nn.Module):\n",
    "    def __init__(self, input_dim):\n",
    "        super(MyNet, self).__init__()\n",
    "        self.input_dim = input_dim\n",
    "        self.layer_1 = nn.Linear(input_dim,100)\n",
    "        self.layer_2 = nn.Linear(100,100)\n",
    "        self.layer_3 = nn.Linear(100,1)\n",
    "\n",
    "    def forward(self, x):\n",
    "        x = F.relu(self.layer_1(x))\n",
    "        x = F.relu(self.layer_2(x))\n",
    "        x = F.relu(self.layer_2(x))\n",
    "        x = torch.sum(F.relu(self.layer_2(x)),1)\n",
    "        x = F.relu(self.layer_2(x))\n",
    "        x = F.relu(self.layer_3(x))\n",
    "        return x"
   ]
  },
  {
   "cell_type": "code",
   "execution_count": 6,
   "id": "b8544a23",
   "metadata": {},
   "outputs": [],
   "source": [
    "d = 784\n",
    "deepset = MyNet(input_dim=d).cuda()"
   ]
  },
  {
   "cell_type": "code",
   "execution_count": 7,
   "id": "efa992bb",
   "metadata": {},
   "outputs": [],
   "source": [
    "criterion = nn.MSELoss()\n",
    "optimizer = optim.Adam(deepset.parameters())\n",
    "num_epochs = 100\n",
    "batch_size = 10000\n",
    "\n",
    "for epoch in range(num_epochs):\n",
    "    for i in range(0, len(X), batch_size):\n",
    "        inputs = X[i:i+batch_size]\n",
    "        outputs = deepset(inputs)\n",
    "        targets = sum_X[i:i+batch_size]\n",
    "        loss = criterion(outputs, targets)\n",
    "        optimizer.zero_grad()\n",
    "        loss.backward()\n",
    "        optimizer.step()"
   ]
  },
  {
   "cell_type": "code",
   "execution_count": 10,
   "id": "8999183a",
   "metadata": {
    "scrolled": true
   },
   "outputs": [
    {
     "data": {
      "image/png": "[encoded data removed]",
      "text/plain": [
       "<Figure size 432x288 with 1 Axes>"
      ]
     },
     "metadata": {
      "needs_background": "light"
     },
     "output_type": "display_data"
    },
    {
     "name": "stdout",
     "output_type": "stream",
     "text": [
      "Error:  1.083\n"
     ]
    }
   ],
   "source": [
    "with torch.no_grad():\n",
    "    deepset.eval()\n",
    "    y_pred = torch.round(deepset(Y).cpu())\n",
    "    \n",
    "y_test = sum_Y.float().view(1000,1)\n",
    "y_test = y_test\n",
    "y_pred = np.array(y_pred)\n",
    "y_test = np.array(y_test)\n",
    "y_pred.shape, y_test.shape = (1000,),(1000,)\n",
    "sort = np.argsort(y_test)\n",
    "plt.xlabel(\"Test dataset ID\")\n",
    "plt.ylabel(\"Accuracy\")\n",
    "plt.title(\"Accuracy prediction using a Neural Network\")\n",
    "plt.plot(range(1000),y_pred[sort],'.',label='Predicted accuracy')\n",
    "plt.plot(range(1000),y_test[sort],'.', label='Accuracy')\n",
    "plt.legend(loc='lower right')\n",
    "plt.show()    \n",
    "\n",
    "print('Error: ',np.mean(np.abs(y_pred-y_test)))"
   ]
  },
  {
   "cell_type": "code",
   "execution_count": null,
   "id": "7cd8c4e4",
   "metadata": {},
   "outputs": [],
   "source": [
    "class Stat(nn.Module):\n",
    "    def __init__(self, input_dim):\n",
    "        super(Stat, self).__init__()\n",
    "        self.input_dim = input_dim\n",
    "        self.layer_1 = nn.Linear(input_dim,1000)\n",
    "        self.layer_2 = nn.Linear(1000,1000)\n",
    "        self.layer_3 = nn.Linear(1000,1)\n",
    "\n",
    "    def forward(self, x):\n",
    "        x = F.relu(self.layer_1(x))\n",
    "        x = F.relu(self.layer_2(x))\n",
    "        x = F.relu(self.layer_2(x))\n",
    "        x = F.relu(self.layer_3(x))\n",
    "        return x\n",
    "    \n",
    "x = torch.cat((torch.mean(X,1), torch.median(X,1).values, torch.std(X,1)), axis=1)\n",
    "y = torch.cat((torch.mean(Y,1), torch.median(Y,1).values, torch.std(Y,1)), axis=1)\n",
    "\n",
    "print(x.shape, y.shape)\n",
    "\n",
    "model = Stat(784*3).cuda()\n",
    "\n",
    "criterion = nn.MSELoss()\n",
    "optimizer = optim.Adam(model.parameters())\n",
    "num_epochs = 100\n",
    "batch_size = 10000\n",
    "\n",
    "\n",
    "total_loss = []\n",
    "for epoch in range(num_epochs):\n",
    "    for i in range(0, len(X), batch_size):\n",
    "        inputs = x[i:i+batch_size]\n",
    "        outputs = model(inputs)\n",
    "        targets = sum_X[i:i+batch_size]\n",
    "        loss = criterion(outputs, targets)\n",
    "        optimizer.zero_grad()\n",
    "        loss.backward()\n",
    "        optimizer.step()"
   ]
  },
  {
   "cell_type": "code",
   "execution_count": 7,
   "id": "ee8e1f88",
   "metadata": {},
   "outputs": [
    {
     "name": "stdout",
     "output_type": "stream",
     "text": [
      "torch.Size([1000, 2352])\n"
     ]
    },
    {
     "data": {
      "image/png": "[encoded data removed]",
      "text/plain": [
       "<Figure size 432x288 with 1 Axes>"
      ]
     },
     "metadata": {
      "needs_background": "light"
     },
     "output_type": "display_data"
    },
    {
     "name": "stdout",
     "output_type": "stream",
     "text": [
      "Error:  2.025\n"
     ]
    }
   ],
   "source": [
    "with torch.no_grad():\n",
    "    model.eval()\n",
    "    y_pred = torch.round(model(y).cpu())\n",
    "    \n",
    "y_test = sum_Y.float().view(1000,1)\n",
    "y_test = y_test\n",
    "y_pred = np.array(y_pred)\n",
    "y_test = np.array(y_test)\n",
    "y_pred.shape, y_test.shape = (1000,),(1000,)\n",
    "sort = np.argsort(y_test)\n",
    "plt.xlabel(\"Test dataset ID\")\n",
    "plt.ylabel(\"Accuracy\")\n",
    "plt.title(\"Accuracy prediction using a Neural Network\")\n",
    "plt.plot(range(1000),y_pred[sort],'.',label='Predicted accuracy')\n",
    "plt.plot(range(1000),y_test[sort],'.', label='Accuracy')\n",
    "plt.legend(loc='lower right')\n",
    "plt.show()    \n",
    "\n",
    "print('Error: ',np.mean(np.abs(y_pred-y_test)))"
   ]
  },
  {
   "cell_type": "code",
   "execution_count": null,
   "id": "f99e0311",
   "metadata": {},
   "outputs": [],
   "source": [
    "class CS(nn.Module):\n",
    "    def __init__(self, input_dim):\n",
    "        super(CS, self).__init__()\n",
    "        self.input_dim = input_dim\n",
    "        self.layer_1 = nn.Linear(input_dim,1000)\n",
    "        self.layer_2 = nn.Linear(1000,1000)\n",
    "        self.layer_3 = nn.Linear(1000,1)\n",
    "\n",
    "    def forward(self, x):\n",
    "        x = F.relu(self.layer_1(x))\n",
    "        x = F.relu(self.layer_2(x))\n",
    "        x = F.relu(self.layer_2(x))\n",
    "        x = F.relu(self.layer_3(x))\n",
    "        return x\n",
    "    \n",
    "x = torch.cat((torch.mean(X,1), torch.median(X,1).values, torch.std(X,1)), axis=1)\n",
    "y = torch.cat((torch.mean(Y,1), torch.median(Y,1).values, torch.std(Y,1)), axis=1)\n",
    "\n",
    "print(x.shape, y.shape)\n",
    "\n",
    "model = CS(784*3).cuda()\n",
    "\n",
    "criterion = nn.MSELoss()\n",
    "optimizer = optim.Adam(model.parameters())\n",
    "num_epochs = 100\n",
    "batch_size = 10000\n",
    "\n",
    "\n",
    "total_loss = []\n",
    "for epoch in range(num_epochs):\n",
    "    for i in range(0, len(X), batch_size):\n",
    "        inputs = x[i:i+batch_size]\n",
    "        outputs = model(inputs)\n",
    "        targets = sum_X[i:i+batch_size]\n",
    "        loss = criterion(outputs, targets)\n",
    "        optimizer.zero_grad()\n",
    "        loss.backward()\n",
    "        optimizer.step()"
   ]
  }
 ],
 "metadata": {
  "kernelspec": {
   "display_name": "tcuda",
   "language": "python",
   "name": "tcuda"
  },
  "language_info": {
   "codemirror_mode": {
    "name": "ipython",
    "version": 3
   },
   "file_extension": ".py",
   "mimetype": "text/x-python",
   "name": "python",
   "nbconvert_exporter": "python",
   "pygments_lexer": "ipython3",
   "version": "3.7.16"
  }
 },
 "nbformat": 4,
 "nbformat_minor": 5
}
