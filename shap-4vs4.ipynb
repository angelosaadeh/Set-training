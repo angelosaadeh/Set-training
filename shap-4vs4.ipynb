{
 "cells": [
  {
   "cell_type": "code",
   "execution_count": 1,
   "id": "24a7f184",
   "metadata": {},
   "outputs": [],
   "source": [
    "import warnings\n",
    "warnings.filterwarnings('ignore')\n",
    "\n",
    "import torch\n",
    "import torchvision\n",
    "import torch.nn as nn\n",
    "import matplotlib.pyplot as plt\n",
    "import torchvision.transforms as tt\n",
    "import torch.utils as utils\n",
    "from random import sample\n",
    "import itertools\n",
    "from torch.utils.data import Dataset, DataLoader\n",
    "from itertools import chain, combinations\n",
    "from tqdm import tqdm\n",
    "from matplotlib import pyplot as plt\n",
    "import numpy as np\n",
    "from numba import jit, cuda"
   ]
  },
  {
   "cell_type": "code",
   "execution_count": 2,
   "id": "0e3cb787",
   "metadata": {
    "scrolled": true
   },
   "outputs": [
    {
     "name": "stdout",
     "output_type": "stream",
     "text": [
      "Dataset MNIST\n",
      "    Number of datapoints: 60000\n",
      "    Root location: ./data\n",
      "    Split: Train\n",
      "Dataset MNIST\n",
      "    Number of datapoints: 10000\n",
      "    Root location: data\n",
      "    Split: Test\n"
     ]
    }
   ],
   "source": [
    "train_data = torchvision.datasets.MNIST('./data',download=True)\n",
    "test_data = torchvision.datasets.MNIST('data',train=False)\n",
    "print(train_data)\n",
    "print(test_data)"
   ]
  },
  {
   "cell_type": "code",
   "execution_count": 3,
   "id": "8f50aabb",
   "metadata": {},
   "outputs": [
    {
     "name": "stdout",
     "output_type": "stream",
     "text": [
      "Using device: cuda\n"
     ]
    }
   ],
   "source": [
    "device = torch.device('cuda' if torch.cuda.is_available() else 'cpu')\n",
    "print('Using device:', device)"
   ]
  },
  {
   "cell_type": "code",
   "execution_count": 4,
   "id": "2eea53b7",
   "metadata": {},
   "outputs": [
    {
     "name": "stdout",
     "output_type": "stream",
     "text": [
      "0  , name =  NVIDIA GeForce RTX 4070 Laptop GPU\n",
      "memory allocated =  0\n",
      "memory reserved =  0\n"
     ]
    }
   ],
   "source": [
    "dev_id = torch.cuda.current_device()\n",
    "print(dev_id, ' , name = ', torch.cuda.get_device_name(dev_id) )\n",
    "print('memory allocated = ', torch.cuda.memory_allocated(dev_id))\n",
    "print('memory reserved = ', torch.cuda.memory_reserved(dev_id))\n"
   ]
  },
  {
   "cell_type": "code",
   "execution_count": 5,
   "id": "93a27cae",
   "metadata": {},
   "outputs": [
    {
     "data": {
      "text/plain": [
       "Text(0.5, 1.0, 'Label of Image:0')"
      ]
     },
     "execution_count": 5,
     "metadata": {},
     "output_type": "execute_result"
    },
    {
     "data": {
      "image/png": "[encoded data removed]",
      "text/plain": [
       "<Figure size 432x288 with 2 Axes>"
      ]
     },
     "metadata": {
      "needs_background": "light"
     },
     "output_type": "display_data"
    }
   ],
   "source": [
    "plt.subplot(1,2,1)\n",
    "image, label = train_data[0]\n",
    "plt.imshow(image, cmap='gray')\n",
    "plt.title(\"Label of Image:{}\".format(label),fontsize=20)\n",
    "plt.subplot(1,2,2)\n",
    "image, label = train_data[1]\n",
    "plt.imshow(image, cmap='gray')\n",
    "plt.title(\"Label of Image:{}\".format(label),fontsize=20)"
   ]
  },
  {
   "cell_type": "code",
   "execution_count": 6,
   "id": "85d116f7",
   "metadata": {},
   "outputs": [],
   "source": [
    "train_data = torchvision.datasets.MNIST('data',train=True,transform=tt.ToTensor())\n",
    "test_data = torchvision.datasets.MNIST('data',train=False,transform=tt.ToTensor()) "
   ]
  },
  {
   "cell_type": "code",
   "execution_count": 7,
   "id": "72cc8b3d",
   "metadata": {},
   "outputs": [],
   "source": [
    "x,y = (train_data.data/255).to(device), (train_data.targets).to(device)\n",
    "xt, yt = torch.clone(x), torch.clone(y)\n",
    "\n",
    "norm = [0.1,0.5,0,0.1,0.5]\n",
    "prob = [0,0,1/3,1/3,1/3] #it means 30% will be not correct\n",
    "\n",
    "for i in range(5):\n",
    "    k = torch.clone(xt[i*10000:(i+1)*10000])\n",
    "    xt[i*10000:(i+1)*10000] = k+torch.tensor(np.random.normal(0,norm[i],k.size())).to(device)\n",
    "    k = torch.clone(yt[i*10000:(i+1)*10000])\n",
    "    replacements = torch.randint(0,10,k.size()).to(device)\n",
    "    probs = torch.tensor(np.random.binomial(1.0,prob[i], k.size())).to(device)\n",
    "    yt[i*10000:(i+1)*10000] = k *(1-probs) + replacements * probs"
   ]
  },
  {
   "cell_type": "code",
   "execution_count": 8,
   "id": "521d4d07",
   "metadata": {},
   "outputs": [],
   "source": [
    "train_data = torch.utils.data.TensorDataset(torch.cat((x,xt)), torch.cat((y,yt)))\n",
    "test_data = torch.utils.data.TensorDataset((test_data.data/255).to(device), test_data.targets.to(device))"
   ]
  },
  {
   "cell_type": "code",
   "execution_count": 9,
   "id": "770431c8",
   "metadata": {
    "scrolled": false
   },
   "outputs": [
    {
     "data": {
      "image/png": "[encoded data removed]",
      "text/plain": [
       "<Figure size 432x288 with 1 Axes>"
      ]
     },
     "metadata": {
      "needs_background": "light"
     },
     "output_type": "display_data"
    }
   ],
   "source": [
    "plt.imshow(train_data[60000][0].cpu(), cmap='gray')\n",
    "plt.show()"
   ]
  },
  {
   "cell_type": "code",
   "execution_count": 10,
   "id": "2891c33c",
   "metadata": {},
   "outputs": [],
   "source": [
    "input_size = 28*28  #Size of image\n",
    "num_classes = 10  #the image number are in range 0-10\n",
    "num_epochs = 5 #one cycle through the full train data\n",
    "batch_size = 1000 #sample size consider before updating the model’s weights\n",
    "learning_rate = 0.01  #step size to update parameter"
   ]
  },
  {
   "cell_type": "code",
   "execution_count": 11,
   "id": "ad981dde",
   "metadata": {},
   "outputs": [],
   "source": [
    "train_dataLoader = torch.utils.data.DataLoader(train_data, batch_size=batch_size,shuffle=True)\n",
    "test_dataLoader = torch.utils.data.DataLoader(test_data, batch_size=batch_size,shuffle=False)"
   ]
  },
  {
   "cell_type": "code",
   "execution_count": 12,
   "id": "96bd91d2",
   "metadata": {},
   "outputs": [],
   "source": [
    "class LogisticRegression(nn.Module):\n",
    "    def __init__(self,input_size,num_classes):\n",
    "        super(LogisticRegression,self).__init__()\n",
    "        self.linear = nn.Linear(input_size,num_classes)\n",
    "    \n",
    "    def forward(self,feature):\n",
    "        output = self.linear(feature)\n",
    "        return output"
   ]
  },
  {
   "cell_type": "code",
   "execution_count": 13,
   "id": "d30fb15c",
   "metadata": {},
   "outputs": [],
   "source": [
    "model = LogisticRegression(input_size,num_classes).to(device)\n",
    "loss = nn.CrossEntropyLoss()\n",
    "optimizer = torch.optim.SGD(model.parameters(),lr=learning_rate)"
   ]
  },
  {
   "cell_type": "code",
   "execution_count": 14,
   "id": "90f9cce0",
   "metadata": {},
   "outputs": [],
   "source": [
    "def train(model, data, epochs):\n",
    "    train_loader = torch.utils.data.DataLoader(data, batch_size=batch_size,shuffle=True)\n",
    "    optimizer = torch.optim.SGD(model.parameters(),lr=learning_rate)\n",
    "    for epoch in range(epochs):\n",
    "        for images,labels in train_loader:\n",
    "            images = torch.autograd.Variable(images.view(-1,input_size))\n",
    "            labels = torch.autograd.Variable(labels).to(device)\n",
    "            \n",
    "            optimizer.zero_grad()\n",
    "            output = model(images)\n",
    "            compute_loss = loss(output,labels)\n",
    "            compute_loss.backward()\n",
    "            optimizer.step()\n",
    "        \n",
    "def test(model):\n",
    "    accurate = 0\n",
    "    total = 0\n",
    "    for images,labels in test_dataLoader:\n",
    "        images = torch.autograd.Variable(images.view(-1,input_size))\n",
    "        output = model(images)\n",
    "        _,predicted = torch.max(output.data, 1)\n",
    "        # total labels\n",
    "        total+= labels.size(0)\n",
    "\n",
    "        # Total correct predictions\n",
    "        accurate+= (predicted == labels).sum()\n",
    "        accuracy_score = 100 * accurate/total\n",
    "    return accuracy_score"
   ]
  },
  {
   "cell_type": "code",
   "execution_count": 15,
   "id": "54ae2f04",
   "metadata": {},
   "outputs": [],
   "source": [
    "# Drawing indices from the dataset\n",
    "\n",
    "ind1 = [i for i in range(len(train_data)//2) if train_data[i][1] in [0,1,2]]\n",
    "ind2 = [i for i in range(len(train_data)//2) if train_data[i][1] in [0,1,2,3,4]]\n",
    "ind3 = sample(range(len(train_data)), 5000)\n",
    "ind4 = sample(range(len(train_data)), 10000)\n",
    "ind5 = [i for i in range(60000, 70000)]\n",
    "ind6 = [i for i in range(70000, 80000)]\n",
    "ind7 = [i for i in range(80000, 90000)]\n",
    "ind8 = [i for i in range(90000, 100000)]\n",
    "ind9 = [i for i in range(100000, 110000)]"
   ]
  },
  {
   "cell_type": "code",
   "execution_count": 16,
   "id": "d10c9897",
   "metadata": {},
   "outputs": [],
   "source": [
    "index_list = [ind1, ind2, ind4, ind5]"
   ]
  },
  {
   "cell_type": "code",
   "execution_count": 17,
   "id": "f31f2e65",
   "metadata": {},
   "outputs": [],
   "source": [
    "class dataset(Dataset):\n",
    "    def __init__(self,indices, transform=None):\n",
    "        self.X = torch.stack([train_data[i][0] for i in indices])\n",
    "        self.Y = torch.tensor([train_data[i][1] for i in indices])\n",
    "        self.transform = transform\n",
    "\n",
    "    def __len__(self):\n",
    "        return len(self.Y)\n",
    "\n",
    "    def __getitem__(self, idx):\n",
    "        self.x = self.X[idx]\n",
    "        self.y = self.Y[idx]\n",
    "        return self.x, self.y"
   ]
  },
  {
   "cell_type": "code",
   "execution_count": 18,
   "id": "04c9351d",
   "metadata": {},
   "outputs": [],
   "source": [
    "def powerset(iterable):\n",
    "    s = list(iterable)\n",
    "    return chain.from_iterable(combinations(s, r) for r in range(len(s)+1))"
   ]
  },
  {
   "cell_type": "code",
   "execution_count": 19,
   "id": "926bea3b",
   "metadata": {},
   "outputs": [],
   "source": [
    "@jit(target_backend='cuda')                         \n",
    "def data_shap(idx, index_list, data):\n",
    "    val = []\n",
    "    idxs = list(powerset(range(len(index_list))))\n",
    "    w_idx = [x for x in idxs if idx in x]\n",
    "    wo_idx = [x for x in idxs if idx not in x]\n",
    "    print(len(w_idx))\n",
    "    for i in range(len(w_idx)):\n",
    "        print(i, end=',')\n",
    "        if i != 0:\n",
    "            indices1 = [index_list[j] for j in w_idx[i]]\n",
    "            indices1 = list(set(sum(indices1,[])))\n",
    "            \n",
    "            indices2 = [index_list[j] for j in wo_idx[i]]\n",
    "            indices2 = list(set(sum(indices2,[])))\n",
    "            \n",
    "            model1 = LogisticRegression(input_size,num_classes).to(device)\n",
    "            model2 = LogisticRegression(input_size,num_classes).to(device)\n",
    "            \n",
    "            data1 = dataset(indices1)\n",
    "            data2 = dataset(indices2)\n",
    "            \n",
    "            train(model1, data1, epochs = 5)\n",
    "            train(model2, data2, epochs = 5)\n",
    "            \n",
    "            p1 = test(model1)\n",
    "            p2 = test(model2)\n",
    "            val.append((p1-p2).cpu())\n",
    "            #print(p1)\n",
    "            #print(p2)\n",
    "            \n",
    "        if i == 0:\n",
    "            indices1 = [index_list[j] for j in w_idx[i]]\n",
    "            indices1 = list(set(sum(indices1,[])))\n",
    "\n",
    "            indices2 = [index_list[j] for j in wo_idx[i]]\n",
    "            indices2 = list(set(sum(indices2,[])))\n",
    "            \n",
    "            model1 = LogisticRegression(input_size,num_classes).to(device)\n",
    "            model2 = LogisticRegression(input_size,num_classes).to(device)\n",
    "            \n",
    "            data1 = dataset(indices1)\n",
    "            \n",
    "            train(model1, data1, epochs = 5)\n",
    "            \n",
    "            p1 = test(model1)\n",
    "            p2 = test(model2)\n",
    "            val.append((p1-p2).cpu())\n",
    "            #print(p1)\n",
    "            #print(p2)\n",
    "            \n",
    "    return np.mean(val)"
   ]
  },
  {
   "cell_type": "code",
   "execution_count": 20,
   "id": "65530e87",
   "metadata": {
    "scrolled": true
   },
   "outputs": [
    {
     "name": "stdout",
     "output_type": "stream",
     "text": [
      "8\n",
      "0,1,2,3,4,5,6,7,-8.64125\n"
     ]
    }
   ],
   "source": [
    "zero = data_shap(0, index_list, train_data)\n",
    "print(zero)"
   ]
  },
  {
   "cell_type": "code",
   "execution_count": 21,
   "id": "103e55fc",
   "metadata": {},
   "outputs": [
    {
     "name": "stdout",
     "output_type": "stream",
     "text": [
      "8\n",
      "0,1,2,3,4,5,6,7,3.8512492\n"
     ]
    }
   ],
   "source": [
    "one = data_shap(1, index_list, train_data)\n",
    "print(one)"
   ]
  },
  {
   "cell_type": "code",
   "execution_count": 22,
   "id": "bf89a48c",
   "metadata": {
    "scrolled": true
   },
   "outputs": [
    {
     "name": "stdout",
     "output_type": "stream",
     "text": [
      "8\n",
      "0,1,2,3,4,5,6,7,12.224998\n"
     ]
    }
   ],
   "source": [
    "two = data_shap(2, index_list, train_data)\n",
    "print(two)"
   ]
  },
  {
   "cell_type": "code",
   "execution_count": 23,
   "id": "997cdcf5",
   "metadata": {
    "scrolled": true
   },
   "outputs": [
    {
     "name": "stdout",
     "output_type": "stream",
     "text": [
      "8\n",
      "0,1,2,3,4,5,6,7,11.1975\n"
     ]
    }
   ],
   "source": [
    "three = data_shap(3, index_list, train_data)\n",
    "print(three)"
   ]
  },
  {
   "cell_type": "code",
   "execution_count": 24,
   "id": "eb641009",
   "metadata": {},
   "outputs": [],
   "source": [
    "shap_values = [zero, one, two, three] "
   ]
  },
  {
   "cell_type": "code",
   "execution_count": 25,
   "id": "3a4ec99a",
   "metadata": {},
   "outputs": [
    {
     "name": "stdout",
     "output_type": "stream",
     "text": [
      "[-8.64125, 3.8512492, 12.224998, 11.1975]\n"
     ]
    },
    {
     "data": {
      "image/png": "[encoded data removed]",
      "text/plain": [
       "<Figure size 432x288 with 1 Axes>"
      ]
     },
     "metadata": {
      "needs_background": "light"
     },
     "output_type": "display_data"
    }
   ],
   "source": [
    "print(shap_values)\n",
    "plt.plot(shap_values,'o')\n",
    "plt.show()"
   ]
  },
  {
   "cell_type": "code",
   "execution_count": 27,
   "id": "8dd2ad42",
   "metadata": {},
   "outputs": [
    {
     "name": "stdout",
     "output_type": "stream",
     "text": [
      "[-7.187499, 7.6812496, 6.6100006, 11.39875]\n"
     ]
    },
    {
     "data": {
      "image/png": "[encoded data removed]",
      "text/plain": [
       "<Figure size 432x288 with 1 Axes>"
      ]
     },
     "metadata": {
      "needs_background": "light"
     },
     "output_type": "display_data"
    }
   ],
   "source": [
    "print(shap_values)\n",
    "plt.plot(shap_values,'o')\n",
    "plt.show()"
   ]
  }
 ],
 "metadata": {
  "kernelspec": {
   "display_name": "tcuda",
   "language": "python",
   "name": "tcuda"
  },
  "language_info": {
   "codemirror_mode": {
    "name": "ipython",
    "version": 3
   },
   "file_extension": ".py",
   "mimetype": "text/x-python",
   "name": "python",
   "nbconvert_exporter": "python",
   "pygments_lexer": "ipython3",
   "version": "3.7.16"
  }
 },
 "nbformat": 4,
 "nbformat_minor": 5
}
